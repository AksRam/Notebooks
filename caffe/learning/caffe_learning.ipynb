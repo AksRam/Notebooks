{
 "cells": [
  {
   "cell_type": "code",
   "execution_count": 1,
   "metadata": {
    "collapsed": true
   },
   "outputs": [],
   "source": [
    "import numpy as np\n",
    "import matplotlib.pyplot as plt\n",
    "from PIL import Image\n",
    "import caffe"
   ]
  },
  {
   "cell_type": "code",
   "execution_count": 2,
   "metadata": {
    "collapsed": true
   },
   "outputs": [],
   "source": [
    "caffe.set_device(0)\n",
    "caffe.set_mode_gpu()"
   ]
  },
  {
   "cell_type": "code",
   "execution_count": 3,
   "metadata": {
    "collapsed": true
   },
   "outputs": [],
   "source": [
    "net = caffe.Net('conv.prototxt', caffe.TEST)"
   ]
  },
  {
   "cell_type": "code",
   "execution_count": 4,
   "metadata": {},
   "outputs": [
    {
     "name": "stdout",
     "output_type": "stream",
     "text": [
      "['data']\n"
     ]
    }
   ],
   "source": [
    "print net.inputs"
   ]
  },
  {
   "cell_type": "code",
   "execution_count": 5,
   "metadata": {},
   "outputs": [
    {
     "name": "stdout",
     "output_type": "stream",
     "text": [
      "<caffe._caffe.Net object at 0x7f50b826c788>\n"
     ]
    }
   ],
   "source": [
    "print net"
   ]
  },
  {
   "cell_type": "code",
   "execution_count": 6,
   "metadata": {},
   "outputs": [
    {
     "data": {
      "text/plain": [
       "[('data', (1, 1, 100, 100)), ('conv', (1, 3, 96, 96))]"
      ]
     },
     "execution_count": 6,
     "metadata": {},
     "output_type": "execute_result"
    }
   ],
   "source": [
    "[(k, v.data.shape) for k, v in net.blobs.items()]"
   ]
  },
  {
   "cell_type": "code",
   "execution_count": 7,
   "metadata": {},
   "outputs": [
    {
     "data": {
      "text/plain": [
       "[('conv', (3, 1, 5, 5), (3,))]"
      ]
     },
     "execution_count": 7,
     "metadata": {},
     "output_type": "execute_result"
    }
   ],
   "source": [
    "[(k, v[0].data.shape, v[1].data.shape) for k, v in net.params.items()]"
   ]
  },
  {
   "cell_type": "code",
   "execution_count": 8,
   "metadata": {},
   "outputs": [
    {
     "name": "stdout",
     "output_type": "stream",
     "text": [
      "(1, 3, 96, 96)\n"
     ]
    }
   ],
   "source": [
    "print net.blobs['conv'].data.shape"
   ]
  },
  {
   "cell_type": "code",
   "execution_count": 9,
   "metadata": {
    "collapsed": true
   },
   "outputs": [],
   "source": [
    "im = np.array(Image.open('cat_gray.jpg'))\n",
    "im_input = im[np.newaxis, np.newaxis, :, :]\n",
    "net.blobs['data'].reshape(*im_input.shape)\n",
    "net.blobs['data'].data[...] = im_input"
   ]
  },
  {
   "cell_type": "code",
   "execution_count": 12,
   "metadata": {},
   "outputs": [
    {
     "data": {
      "text/plain": [
       "{'conv': array([[[[  0.61207408,   0.64005971,   0.52910346, ...,   1.16009247,\n",
       "             1.08716178,   1.20124459],\n",
       "          [  0.54044086,   0.63566428,   0.62214094, ...,   1.33741212,\n",
       "             1.24578702,   1.17741513],\n",
       "          [  0.47838062,   0.48016638,   0.49611658, ...,   1.29909933,\n",
       "             1.37754309,   1.432989  ],\n",
       "          ..., \n",
       "          [  0.79084361,   0.71741199,   0.86764985, ...,   2.11252284,\n",
       "             2.3735857 ,   3.69809365],\n",
       "          [  0.78892767,   0.72935092,   0.89060271, ...,   4.07649994,\n",
       "             2.98340917,   2.67998481],\n",
       "          [  0.75088894,   0.92354608,   0.90070683, ...,   4.95386076,\n",
       "             4.30726337,   3.84736872]],\n",
       " \n",
       "         [[  2.48210549,   2.5556953 ,   2.62721324, ...,   5.11368895,\n",
       "             5.03764534,   4.99143505],\n",
       "          [  2.55089784,   2.55523634,   2.48884106, ...,   5.42297173,\n",
       "             5.35820293,   5.29273653],\n",
       "          [  2.61467266,   2.61298585,   2.55869675, ...,   5.81085777,\n",
       "             5.6589756 ,   5.64151382],\n",
       "          ..., \n",
       "          [  3.76711297,   3.75403404,   3.60838795, ...,  18.91905212,\n",
       "            18.56071663,  18.61919212],\n",
       "          [  3.76196742,   3.78470802,   3.69237256, ...,  18.30009651,\n",
       "            18.50616455,  17.98723984],\n",
       "          [  3.95107293,   4.06985092,   4.07099867, ...,  19.89847374,\n",
       "            17.52692604,  17.76161766]],\n",
       " \n",
       "         [[ -1.32375312,  -1.31374848,  -1.34105468, ...,  -2.67177272,\n",
       "            -2.69804549,  -2.68763304],\n",
       "          [ -1.29420137,  -1.25170648,  -1.25742841, ...,  -2.78618908,\n",
       "            -2.86524725,  -2.95885825],\n",
       "          [ -1.30329108,  -1.24902642,  -1.24045837, ...,  -2.98951888,\n",
       "            -2.98775506,  -3.00793719],\n",
       "          ..., \n",
       "          [ -1.59575117,  -1.75301766,  -1.87482941, ...,  -9.89769077,\n",
       "            -9.64003372,  -8.87317944],\n",
       "          [ -1.87118232,  -1.97899163,  -1.92303479, ..., -10.62494373,\n",
       "           -10.82238483, -10.57935143],\n",
       "          [ -2.21229911,  -2.20008016,  -2.30363274, ...,  -9.41708565,\n",
       "           -10.1044569 , -10.15982246]]]], dtype=float32)}"
      ]
     },
     "execution_count": 12,
     "metadata": {},
     "output_type": "execute_result"
    }
   ],
   "source": [
    "net.forward()"
   ]
  },
  {
   "cell_type": "code",
   "execution_count": 13,
   "metadata": {
    "collapsed": true
   },
   "outputs": [],
   "source": [
    "net.save('mymodel.caffemodel')"
   ]
  },
  {
   "cell_type": "code",
   "execution_count": null,
   "metadata": {
    "collapsed": true
   },
   "outputs": [],
   "source": []
  }
 ],
 "metadata": {
  "kernelspec": {
   "display_name": "Python 2",
   "language": "python",
   "name": "python2"
  },
  "language_info": {
   "codemirror_mode": {
    "name": "ipython",
    "version": 2
   },
   "file_extension": ".py",
   "mimetype": "text/x-python",
   "name": "python",
   "nbconvert_exporter": "python",
   "pygments_lexer": "ipython2",
   "version": "2.7.12"
  }
 },
 "nbformat": 4,
 "nbformat_minor": 2
}
