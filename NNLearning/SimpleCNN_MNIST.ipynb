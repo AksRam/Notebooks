{
  "nbformat": 4,
  "nbformat_minor": 0,
  "metadata": {
    "colab": {
      "name": "SimpleCNN_MNIST.ipynb",
      "version": "0.3.2",
      "provenance": [],
      "collapsed_sections": []
    },
    "kernelspec": {
      "name": "python3",
      "display_name": "Python 3"
    }
  },
  "cells": [
    {
      "cell_type": "markdown",
      "metadata": {
        "id": "view-in-github",
        "colab_type": "text"
      },
      "source": [
        "[View in Colaboratory](https://colab.research.google.com/github/AkshayRam12/Notebooks/blob/master/NNLearning/SimpleCNN_MNIST.ipynb)"
      ]
    },
    {
      "metadata": {
        "id": "o7xtaSO7cxAD",
        "colab_type": "text"
      },
      "cell_type": "markdown",
      "source": [
        "## This notebook will demostrate a simple convolutional neural network which will recognize handwritten digits using MNIST as training data"
      ]
    },
    {
      "metadata": {
        "id": "UKhkZG-Sc8tZ",
        "colab_type": "code",
        "colab": {}
      },
      "cell_type": "code",
      "source": [
        "# import required libraries\n",
        "\n",
        "import numpy\n",
        "from keras.datasets import mnist\n",
        "from keras.models import Sequential\n",
        "from keras.layers import Dense\n",
        "from keras.layers import Dropout\n",
        "from keras.layers import Flatten\n",
        "from keras.layers.convolutional import Conv2D\n",
        "from keras.layers.convolutional import MaxPooling2D\n",
        "from keras.utils import np_utils\n",
        "from keras import backend as K\n",
        "\n",
        "import matplotlib.pyplot as plt\n",
        "\n",
        "# fix random seed for reproducability\n",
        "seed = 7\n",
        "numpy.random.seed(seed)\n",
        "\n",
        "# set image ordering\n",
        "K.set_image_dim_ordering('th')\n"
      ],
      "execution_count": 0,
      "outputs": []
    },
    {
      "metadata": {
        "id": "z2jQoCI5dEfo",
        "colab_type": "code",
        "colab": {}
      },
      "cell_type": "code",
      "source": [
        "# load the dataset\n",
        "\n",
        "  ## code here\n",
        "\n",
        "# reshaping the data to [samples][channels][width][height]\n",
        "\n",
        "  ## code here \n",
        "\n",
        "# normalize the inputs from 0-255 to 0-1\n",
        "\n",
        "  ## code here \n",
        "  \n",
        "# one hot encoding of labels\n",
        "  \n",
        "  ## code here \n",
        " print(\"number of classes = \", num_classes)"
      ],
      "execution_count": 0,
      "outputs": []
    },
    {
      "metadata": {
        "id": "7CZjmjQldiG4",
        "colab_type": "code",
        "colab": {}
      },
      "cell_type": "code",
      "source": [
        "# define the CNN model\n",
        "\n",
        "def cnn_model():\n",
        "  # create model\n",
        "    ## code here\n",
        "  \n",
        "  # compile the model\n",
        "  ## code here\n",
        "  return model"
      ],
      "execution_count": 0,
      "outputs": []
    },
    {
      "metadata": {
        "id": "8TBY96AYdqPw",
        "colab_type": "code",
        "colab": {}
      },
      "cell_type": "code",
      "source": [
        "# build model\n",
        "## code here\n",
        "\n",
        "# fit the model ( training)\n",
        "## code here\n",
        "\n",
        "# plotting metrics\n",
        "\n",
        "print(\"\\n\\nResults :\")\n",
        "fig = plt.figure()\n",
        "plt.subplot(2,1,1)\n",
        "plt.plot(history.history['acc'])\n",
        "plt.plot(history.history['val_acc'])\n",
        "plt.title('model accuracy')\n",
        "plt.ylabel('accuracy')\n",
        "plt.xlabel('epoch')\n",
        "plt.legend(['train', 'test'], loc='lower right')\n",
        "\n",
        "plt.subplot(2,1,2)\n",
        "plt.plot(history.history['loss'])\n",
        "plt.plot(history.history['val_loss'])\n",
        "plt.title('model loss')\n",
        "plt.ylabel('loss')\n",
        "plt.xlabel('epoch')\n",
        "plt.legend(['train', 'test'], loc='upper right')\n",
        "\n",
        "plt.tight_layout()"
      ],
      "execution_count": 0,
      "outputs": []
    }
  ]
}