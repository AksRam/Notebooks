{
  "nbformat": 4,
  "nbformat_minor": 0,
  "metadata": {
    "colab": {
      "name": "SimpleNN_MNIST.ipynb",
      "version": "0.3.2",
      "provenance": [],
      "collapsed_sections": []
    },
    "kernelspec": {
      "name": "python3",
      "display_name": "Python 3"
    }
  },
  "cells": [
    {
      "cell_type": "markdown",
      "metadata": {
        "id": "view-in-github",
        "colab_type": "text"
      },
      "source": [
        "[View in Colaboratory](https://colab.research.google.com/github/AkshayRam12/Notebooks/blob/master/NNLearning/SimpleNN_MNIST.ipynb)"
      ]
    },
    {
      "metadata": {
        "id": "p3RICRRKaW8G",
        "colab_type": "text"
      },
      "cell_type": "markdown",
      "source": [
        "## Simple neural network using keras to demonstrate handwriting recognition using the MNIST dataset"
      ]
    },
    {
      "metadata": {
        "id": "O6-xZAuCaikp",
        "colab_type": "code",
        "colab": {
          "base_uri": "https://localhost:8080/",
          "height": 34
        },
        "outputId": "b39f6a6a-aa09-4577-bab2-4d8fc47ae3be"
      },
      "cell_type": "code",
      "source": [
        "# import the required packages and libraries\n",
        "\n",
        "import keras\n",
        "import matplotlib.pyplot as plt\n",
        "from keras.datasets import mnist\n",
        "\n",
        "import numpy\n",
        "from keras.models import Sequential\n",
        "from keras.layers import Dense\n",
        "from keras.layers import Dropout\n",
        "from keras.layers import Activation\n",
        "from keras.utils import np_utils"
      ],
      "execution_count": 1,
      "outputs": [
        {
          "output_type": "stream",
          "text": [
            "Using TensorFlow backend.\n"
          ],
          "name": "stderr"
        }
      ]
    },
    {
      "metadata": {
        "id": "WuByUGDqaq-4",
        "colab_type": "code",
        "colab": {}
      },
      "cell_type": "code",
      "source": [
        "# load the mnist dataset and display samples using matplotlib \n",
        "\n",
        " ## code here\n",
        "\n",
        "# printing size of datasets \n",
        "\n",
        "  ## code here\n",
        "\n",
        "# plotting the sample gray scal images\n",
        "\n",
        "plt.subplot(221)\n",
        "plt.imshow(, cmap=plt.get_cmap('gray')) # fill code\n",
        "plt.subplot(222)\n",
        "plt.imshow(, cmap=plt.get_cmap('gray')) # fill code \n",
        "plt.subplot(223)\n",
        "plt.imshow(, cmap=plt.get_cmap('gray')) # fill code \n",
        "plt.subplot(224)\n",
        "plt.imshow(, cmap=plt.get_cmap('gray')) # fill code \n",
        "\n",
        "#display\n",
        "plt.show()"
      ],
      "execution_count": 0,
      "outputs": []
    },
    {
      "metadata": {
        "id": "hSLX7JTUbAav",
        "colab_type": "code",
        "colab": {}
      },
      "cell_type": "code",
      "source": [
        "# fix random seed \n",
        "seed = 7\n",
        "numpy.random.seed(seed)\n",
        "\n",
        "# input images are of size 28*28. Since this is a general neural net we have to reshape the input to 784 vector \n",
        "# This is called flattening the input \n",
        "\n",
        "  ## code here\n",
        "\n",
        "# normalize the input from 0-255 to 0-1\n",
        "  ## code here\n",
        "\n",
        "# encode labels to one hot encoding format\n",
        "  ## code here\n",
        "\n",
        "print(\"num classes = \", num_classes)"
      ],
      "execution_count": 0,
      "outputs": []
    },
    {
      "metadata": {
        "id": "OJLnDqf3bh64",
        "colab_type": "code",
        "colab": {}
      },
      "cell_type": "code",
      "source": [
        "# define the model\n",
        "\n",
        "def base_model():\n",
        "  #crete model\n",
        "    ##code here\n",
        "    \n",
        "  #compile the model\n",
        "    ## code here\n",
        "  \n",
        "  return model"
      ],
      "execution_count": 0,
      "outputs": []
    },
    {
      "metadata": {
        "id": "62NoVYOxbs85",
        "colab_type": "code",
        "colab": {}
      },
      "cell_type": "code",
      "source": [
        "# build model\n",
        "  ## code here\n",
        "​\n",
        "# fit the model ( training)\n",
        "  ## code here\n",
        "​\n",
        "# plotting metrics\n",
        "​\n",
        "print(\"\\n\\nResults :\")\n",
        "fig = plt.figure()\n",
        "plt.subplot(2,1,1)\n",
        "plt.plot(history.history['acc'])\n",
        "plt.plot(history.history['val_acc'])\n",
        "plt.title('model accuracy')\n",
        "plt.ylabel('accuracy')\n",
        "plt.xlabel('epoch')\n",
        "plt.legend(['train', 'test'], loc='lower right')\n",
        "​\n",
        "plt.subplot(2,1,2)\n",
        "plt.plot(history.history['loss'])\n",
        "plt.plot(history.history['val_loss'])\n",
        "plt.title('model loss')\n",
        "plt.ylabel('loss')\n",
        "plt.xlabel('epoch')\n",
        "plt.legend(['train', 'test'], loc='upper right')\n",
        "​\n",
        "plt.tight_layout()"
      ],
      "execution_count": 0,
      "outputs": []
    }
  ]
}