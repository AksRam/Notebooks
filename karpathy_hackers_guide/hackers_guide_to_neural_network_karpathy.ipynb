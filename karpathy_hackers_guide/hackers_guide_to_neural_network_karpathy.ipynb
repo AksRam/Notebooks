{
 "cells": [
  {
   "cell_type": "markdown",
   "metadata": {},
   "source": [
    "# Hacker's guide to neural networks"
   ]
  },
  {
   "cell_type": "code",
   "execution_count": 1,
   "metadata": {
    "collapsed": true
   },
   "outputs": [],
   "source": [
    "def forwardMultiplyGate(x,y):\n",
    "    return x * y"
   ]
  },
  {
   "cell_type": "code",
   "execution_count": 4,
   "metadata": {},
   "outputs": [
    {
     "data": {
      "text/plain": [
       "-6"
      ]
     },
     "execution_count": 4,
     "metadata": {},
     "output_type": "execute_result"
    }
   ],
   "source": [
    "forwardMultiplyGate(-2,3)"
   ]
  },
  {
   "cell_type": "markdown",
   "metadata": {},
   "source": [
    "# 1. random local search"
   ]
  },
  {
   "cell_type": "code",
   "execution_count": 20,
   "metadata": {
    "collapsed": true
   },
   "outputs": [],
   "source": [
    "import random\n",
    "\n",
    "x=-2\n",
    "y=3\n",
    "\n",
    "tweakAmount = 0.01\n",
    "best_out = -float(\"inf\")\n",
    "best_x = x\n",
    "best_y = y\n",
    "for i in range(100):\n",
    "    x_try = x + tweakAmount * (random.random() * 2 - 1)\n",
    "    y_try = y + tweakAmount * (random.random() * 2 - 1)\n",
    "    out = forwardMultiplyGate(x_try,y_try)\n",
    "    if ( out > best_out):\n",
    "        best_out = out\n",
    "        best_x = x_try\n",
    "        best_y = y_try\n",
    "        "
   ]
  },
  {
   "cell_type": "code",
   "execution_count": 21,
   "metadata": {},
   "outputs": [
    {
     "name": "stdout",
     "output_type": "stream",
     "text": [
      "(-1.9912644596040916, 2.993410308130945)\n"
     ]
    }
   ],
   "source": [
    "print(best_x,best_y)"
   ]
  },
  {
   "cell_type": "markdown",
   "metadata": {},
   "source": [
    "# 2. Numerical gradient"
   ]
  },
  {
   "cell_type": "code",
   "execution_count": 22,
   "metadata": {},
   "outputs": [
    {
     "name": "stdout",
     "output_type": "stream",
     "text": [
      "3.0\n",
      "-2.0\n"
     ]
    }
   ],
   "source": [
    "out = forwardMultiplyGate(-2,3)\n",
    "h = 0.0001\n",
    "\n",
    "#compute derivative with respect to x \n",
    "xph = x + h\n",
    "out2 = forwardMultiplyGate(xph,y)\n",
    "x_derivative = (out2 - out)/ h\n",
    "print(x_derivative)\n",
    "\n",
    "#compute derivative with respect to y\n",
    "yph = y + h\n",
    "out3 = forwardMultiplyGate(x,yph)\n",
    "y_derivative = (out3 - out)/ h\n",
    "print(y_derivative)"
   ]
  },
  {
   "cell_type": "code",
   "execution_count": 24,
   "metadata": {},
   "outputs": [
    {
     "name": "stdout",
     "output_type": "stream",
     "text": [
      "(-5.742399999999725, -1.9399999999999622, 2.9599999999999156)\n"
     ]
    }
   ],
   "source": [
    "step_size = 0.01\n",
    "x = x + step_size * x_derivative\n",
    "y = y + step_size * y_derivative\n",
    "out_new = forwardMultiplyGate(x,y)\n",
    "print(out_new , x , y)"
   ]
  },
  {
   "cell_type": "code",
   "execution_count": null,
   "metadata": {
    "collapsed": true
   },
   "outputs": [],
   "source": []
  }
 ],
 "metadata": {
  "kernelspec": {
   "display_name": "Python 2",
   "language": "python",
   "name": "python2"
  },
  "language_info": {
   "codemirror_mode": {
    "name": "ipython",
    "version": 2
   },
   "file_extension": ".py",
   "mimetype": "text/x-python",
   "name": "python",
   "nbconvert_exporter": "python",
   "pygments_lexer": "ipython2",
   "version": "2.7.12"
  }
 },
 "nbformat": 4,
 "nbformat_minor": 2
}
