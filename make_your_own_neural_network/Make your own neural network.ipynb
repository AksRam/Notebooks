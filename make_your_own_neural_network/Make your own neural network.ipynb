{
 "cells": [
  {
   "cell_type": "markdown",
   "metadata": {},
   "source": [
    "# Building a neural network in python \n"
   ]
  },
  {
   "cell_type": "code",
   "execution_count": 77,
   "metadata": {},
   "outputs": [],
   "source": [
    "import os\n",
    "import sys\n",
    "import numpy as np\n",
    "import scipy.special\n",
    "\n",
    "\n",
    "class NeuralNet:\n",
    "    \n",
    "    def __init__(self, inputNodes, outputNodes, hiddenNodes, learningRate):\n",
    "        self.inodes = inputNodes\n",
    "        self.onodes = outputNodes\n",
    "        self.hnodes = hiddenNodes\n",
    "        self.lrate = learningRate\n",
    "        \n",
    "        # creating weights matrices\n",
    "        self.wih = (np.random.normal(0.0,pow(self.hnodes,-0/5),(self.hnodes,self.inodes)))\n",
    "        self.who = (np.random.normal(0.0,pow(self.onodes,-0.5),(self.onodes,self.hnodes)))\n",
    "        '''print(\"weights --> hidden-output\")\n",
    "        print(self.who)\n",
    "        print(\"weights --> input-hidden\")\n",
    "        print(self.wih)'''\n",
    "        \n",
    "        #defining the activation function\n",
    "        \n",
    "        self.activationFunction = lambda x: scipy.special.expit(x)\n",
    "        \n",
    "    def train(self, inputList, targetList):\n",
    "        inputs = np.array(inputList,ndmin=2).T\n",
    "        targets = np.array(targetList,ndmin=2).T\n",
    "        \n",
    "        hiddenInputs = np.dot(self.wih, inputs)\n",
    "        hiddenOutputs = self.activationFunction(hiddenInputs)\n",
    "        \n",
    "        finalInputs = np.dot(self.who,hiddenOutputs)\n",
    "        finalOutputs = self.activationFunction(finalInputs)\n",
    "        \n",
    "        outputErrors = (targets - finalOutputs)\n",
    "        #print(\"Ouptut Errors  --> \")\n",
    "        #print(outputErrors)\n",
    "        \n",
    "        hiddenErrors = np.dot(self.who.T,outputErrors)\n",
    "        #print(\"Hidden Errors --> \")\n",
    "        #print(hiddenErrors)\n",
    "        \n",
    "        #update the weights hidden-output\n",
    "        self.who += self.lrate * np.dot((outputErrors*finalOutputs*(1.0-finalOutputs)),np.transpose(hiddenOutputs))\n",
    "        \n",
    "        #update the weights input-hidden\n",
    "        self.wih += self.lrate * np.dot((hiddenErrors*hiddenOutputs*(1.0-hiddenOutputs)),np.transpose(inputs))\n",
    "        \n",
    "        '''print(\"weights --> hidden-output\")\n",
    "        print(self.who)\n",
    "        print(\"weights --> input-hidden\")\n",
    "        print(self.wih)'''\n",
    "        pass\n",
    "    \n",
    "    def query(self, inputList):\n",
    "        #the input matrix\n",
    "        inputs = np.array(inputList,ndmin=2).T\n",
    "        #print(\"Input matrix : \")\n",
    "        #print(inputs)\n",
    "        \n",
    "        #Calculating the hidden layer input matrix \n",
    "        hiddenInputs = np.dot(self.wih,inputs)\n",
    "        #print(\"Hidden layer inputs : \")\n",
    "        #print(hiddenInputs)\n",
    "        #Passing through activation function\n",
    "        hiddenOutputs = self.activationFunction(hiddenInputs)\n",
    "        #print(\"Activated by sigmoid : \")\n",
    "        #print(hiddenOutputs)\n",
    "        \n",
    "        #Caluclating the output layer input matrix\n",
    "        finalInputs = np.dot(self.who,hiddenOutputs)\n",
    "        print(\"final Inputs : \")\n",
    "        print(finalInputs)\n",
    "        #Caluclating final layer output\n",
    "        finalOutputs = self.activationFunction(finalInputs)\n",
    "        \n",
    "        return finalOutputs"
   ]
  },
  {
   "cell_type": "code",
   "execution_count": 78,
   "metadata": {},
   "outputs": [],
   "source": [
    "# specify number of input, output and hidden nodes\n",
    "\n",
    "inputNodes = 3\n",
    "outputNodes = 3\n",
    "hiddenNodes = 3\n",
    "\n",
    "# specify the learning rate\n",
    "\n",
    "learningRate = 0.5\n",
    "\n",
    "# creting a instance of NeuralNetwork\n",
    "\n",
    "n = NeuralNet(inputNodes, outputNodes, hiddenNodes, learningRate)"
   ]
  },
  {
   "cell_type": "code",
   "execution_count": 29,
   "metadata": {},
   "outputs": [
    {
     "name": "stdout",
     "output_type": "stream",
     "text": [
      "Input matrix : \n",
      "[[ 0.2]\n",
      " [ 0.3]\n",
      " [ 0.4]]\n",
      "Hidden layer inputs : \n",
      "[[-0.18562458]\n",
      " [ 0.01477796]\n",
      " [-0.21346983]]\n",
      "Activated by sigmoid : \n",
      "[[ 0.45372665]\n",
      " [ 0.50369442]\n",
      " [ 0.44683428]]\n",
      "final Inputs : \n",
      "[[-0.39196723]\n",
      " [ 0.23424241]\n",
      " [ 0.40036544]]\n",
      "final output : \n",
      "[[ 0.40324382]\n",
      " [ 0.5582943 ]\n",
      " [ 0.59877546]]\n"
     ]
    }
   ],
   "source": [
    "outs = n.query([0.2,0.3,0.4])\n",
    "print(\"final output : \")\n",
    "print(outs)"
   ]
  },
  {
   "cell_type": "code",
   "execution_count": 30,
   "metadata": {},
   "outputs": [
    {
     "name": "stdout",
     "output_type": "stream",
     "text": [
      "Ouptut Errors  --> \n",
      "[[-0.00324382]\n",
      " [-0.0582943 ]\n",
      " [ 0.00122454]]\n",
      "Hidden Errors --> \n",
      "[[-0.01017559]\n",
      " [-0.01889328]\n",
      " [ 0.0050133 ]]\n",
      "weights --> hidden-output\n",
      "[[-0.31937084 -0.26262589 -0.2574428 ]\n",
      " [ 0.19005895  0.34201586 -0.06490618]\n",
      " [ 0.04781706  0.33005318  0.47561388]]\n",
      "weights --> input-hidden\n",
      "[[-0.46448623 -0.49794963  0.14072962]\n",
      " [ 0.19544206  0.24204809 -0.24402431]\n",
      " [ 0.40154682 -0.39660077 -0.43654822]]\n"
     ]
    }
   ],
   "source": [
    "n.train([0.2,0.3,0.4],[0.4,0.5,0.6])"
   ]
  },
  {
   "cell_type": "code",
   "execution_count": 31,
   "metadata": {},
   "outputs": [
    {
     "name": "stdout",
     "output_type": "stream",
     "text": [
      "Ouptut Errors  --> \n",
      "[[-0.00319694]\n",
      " [-0.05710606]\n",
      " [ 0.00121079]]\n",
      "Hidden Errors --> \n",
      "[[-0.00977461]\n",
      " [-0.01829196]\n",
      " [ 0.00510543]]\n",
      "weights --> hidden-output\n",
      "[[-0.31954532 -0.26281956 -0.25761469]\n",
      " [ 0.18686302  0.33846847 -0.06805451]\n",
      " [ 0.04788304  0.33012641  0.47567888]]\n",
      "weights --> input-hidden\n",
      "[[-0.46472849 -0.49831302  0.14024509]\n",
      " [ 0.19498478  0.24136217 -0.24493886]\n",
      " [ 0.40167301 -0.39641148 -0.43629583]]\n",
      "Ouptut Errors  --> \n",
      "[[-0.00315032]\n",
      " [-0.05594155]\n",
      " [ 0.00119674]]\n",
      "Hidden Errors --> \n",
      "[[-0.00938943]\n",
      " [-0.01771141]\n",
      " [ 0.00518791]]\n",
      "weights --> hidden-output\n",
      "[[-0.31971722 -0.26301034 -0.25778408]\n",
      " [ 0.1837312   0.3349927  -0.07114059]\n",
      " [ 0.04794824  0.33019877  0.47574312]]\n",
      "weights --> input-hidden\n",
      "[[-0.4649612  -0.49866209  0.13977967]\n",
      " [ 0.19454202  0.24069803 -0.24582439]\n",
      " [ 0.40180125 -0.39621913 -0.43603936]]\n",
      "Ouptut Errors  --> \n",
      "[[-0.00310398]\n",
      " [-0.05480031]\n",
      " [ 0.00118243]]\n",
      "Hidden Errors --> \n",
      "[[-0.00901944]\n",
      " [-0.01715089]\n",
      " [ 0.00526122]]\n",
      "weights --> hidden-output\n",
      "[[-0.31988656 -0.26319825 -0.25795099]\n",
      " [ 0.18066225  0.33158719 -0.07416557]\n",
      " [ 0.04801264  0.33027024  0.47580661]]\n",
      "weights --> input-hidden\n",
      "[[-0.46518473 -0.49899739  0.1393326 ]\n",
      " [ 0.19411326  0.24005489 -0.2466819 ]\n",
      " [ 0.4019313  -0.39602405 -0.43577925]]\n",
      "Ouptut Errors  --> \n",
      "[[-0.00305793]\n",
      " [-0.05368191]\n",
      " [ 0.00116789]]\n",
      "Hidden Errors --> \n",
      "[[-0.00866403]\n",
      " [-0.01660967]\n",
      " [ 0.00532583]]\n",
      "weights --> hidden-output\n",
      "[[-0.32005335 -0.26338331 -0.25811543]\n",
      " [ 0.177655    0.32825057 -0.07713058]\n",
      " [ 0.04807624  0.33034081  0.47586932]]\n",
      "weights --> input-hidden\n",
      "[[-0.46539945 -0.49931947  0.13890317]\n",
      " [ 0.19369804  0.23943205 -0.24751236]\n",
      " [ 0.40206295 -0.39582657 -0.43551595]]\n",
      "Ouptut Errors  --> \n",
      "[[-0.0030122 ]\n",
      " [-0.05258591]\n",
      " [ 0.00115314]]\n",
      "Hidden Errors --> \n",
      "[[-0.00832265]\n",
      " [-0.01608706]\n",
      " [ 0.00538222]]\n",
      "weights --> hidden-output\n",
      "[[-0.32021761 -0.26356553 -0.25827743]\n",
      " [ 0.17470826  0.32498151 -0.08003673]\n",
      " [ 0.04813903  0.33041046  0.47593124]]\n",
      "weights --> input-hidden\n",
      "[[-0.4656057  -0.49962884  0.13849066]\n",
      " [ 0.19329587  0.23882881 -0.24831668]\n",
      " [ 0.402196   -0.395627   -0.43524986]]\n",
      "Ouptut Errors  --> \n",
      "[[-0.00296681]\n",
      " [-0.0515119 ]\n",
      " [ 0.00113821]]\n",
      "Hidden Errors --> \n",
      "[[-0.00799474]\n",
      " [-0.01558239]\n",
      " [ 0.00543081]]\n",
      "weights --> hidden-output\n",
      "[[-0.32037936 -0.26374495 -0.258437  ]\n",
      " [ 0.17182087  0.3217787  -0.08288512]\n",
      " [ 0.048201    0.33047919  0.47599236]]\n",
      "weights --> input-hidden\n",
      "[[-0.46580382 -0.49992602  0.13809442]\n",
      " [ 0.19290633  0.23824449 -0.24909578]\n",
      " [ 0.40233025 -0.39542563 -0.43498136]]\n",
      "Ouptut Errors  --> \n",
      "[[-0.00292176]\n",
      " [-0.05045944]\n",
      " [ 0.00112313]]\n",
      "Hidden Errors --> \n",
      "[[-0.00767978]\n",
      " [-0.015095  ]\n",
      " [ 0.00547203]]\n",
      "weights --> hidden-output\n",
      "[[-0.32053862 -0.2639216  -0.25859415]\n",
      " [ 0.16899169  0.31864085 -0.08567682]\n",
      " [ 0.04826213  0.330547    0.47605269]]\n",
      "weights --> input-hidden\n",
      "[[-0.46599413 -0.50021149  0.1377138 ]\n",
      " [ 0.19252896  0.23767844 -0.24985051]\n",
      " [ 0.40246552 -0.39522272 -0.43471081]]\n",
      "Ouptut Errors  --> \n",
      "[[-0.00287708]\n",
      " [-0.04942813]\n",
      " [ 0.00110792]]\n",
      "Hidden Errors --> \n",
      "[[-0.00737726]\n",
      " [-0.01462428]\n",
      " [ 0.00550627]]\n",
      "weights --> hidden-output\n",
      "[[-0.32069542 -0.26409548 -0.25874891]\n",
      " [ 0.1662196   0.31556668 -0.0884129 ]\n",
      " [ 0.04832242  0.33061386  0.4761122 ]]\n",
      "weights --> input-hidden\n",
      "[[-0.46617694 -0.5004857   0.13734819]\n",
      " [ 0.19216336  0.23713004 -0.2505817 ]\n",
      " [ 0.40260164 -0.39501853 -0.43443857]]\n",
      "Ouptut Errors  --> \n",
      "[[-0.00283277]\n",
      " [-0.04841757]\n",
      " [ 0.0010926 ]]\n",
      "Hidden Errors --> \n",
      "[[-0.0070867 ]\n",
      " [-0.01416962]\n",
      " [ 0.00553391]]\n",
      "weights --> hidden-output\n",
      "[[-0.32084978 -0.26426664 -0.2589013 ]\n",
      " [ 0.16350349  0.31255496 -0.0910944 ]\n",
      " [ 0.04838187  0.33067978  0.47617089]]\n",
      "weights --> input-hidden\n",
      "[[-0.46635255 -0.50074911  0.13699698]\n",
      " [ 0.19180913  0.23659869 -0.25129017]\n",
      " [ 0.40273845 -0.39481332 -0.43416495]]\n"
     ]
    }
   ],
   "source": [
    "for i in range(1,10):\n",
    "    n.train([0.2,0.3,0.4],[0.4,0.5,0.6])"
   ]
  },
  {
   "cell_type": "code",
   "execution_count": 79,
   "metadata": {},
   "outputs": [],
   "source": [
    "import matplotlib.pyplot\n",
    "%matplotlib inline\n",
    "data_file = open('mnist_train_100.csv','r')\n",
    "data_list = data_file.readlines()\n",
    "data_file.close()"
   ]
  },
  {
   "cell_type": "code",
   "execution_count": 80,
   "metadata": {},
   "outputs": [
    {
     "data": {
      "text/plain": [
       "<matplotlib.image.AxesImage at 0x7fca5ab5c450>"
      ]
     },
     "execution_count": 80,
     "metadata": {},
     "output_type": "execute_result"
    },
    {
     "data": {
      "image/png": "[encoded data removed]",
      "text/plain": [
       "<matplotlib.figure.Figure at 0x7fca5ac9a250>"
      ]
     },
     "metadata": {},
     "output_type": "display_data"
    }
   ],
   "source": [
    "\n",
    "all_values = data_list[1].split(',')\n",
    "image_array = np.asfarray(all_values[1:]).reshape(28,28)\n",
    "matplotlib.pyplot.imshow(image_array,cmap='Greys',interpolation='None')"
   ]
  },
  {
   "cell_type": "code",
   "execution_count": 81,
   "metadata": {},
   "outputs": [
    {
     "name": "stdout",
     "output_type": "stream",
     "text": [
      "[ 0.01        0.01        0.01        0.01        0.01        0.01        0.01\n",
      "  0.01        0.01        0.01        0.01        0.01        0.01        0.01\n",
      "  0.01        0.01        0.01        0.01        0.01        0.01        0.01\n",
      "  0.01        0.01        0.01        0.01        0.01        0.01        0.01\n",
      "  0.01        0.01        0.01        0.01        0.01        0.01        0.01\n",
      "  0.01        0.01        0.01        0.01        0.01        0.01        0.01\n",
      "  0.01        0.01        0.01        0.01        0.01        0.01        0.01\n",
      "  0.01        0.01        0.01        0.01        0.01        0.01        0.01\n",
      "  0.01        0.01        0.01        0.01        0.01        0.01        0.01\n",
      "  0.01        0.01        0.01        0.01        0.01        0.01        0.01\n",
      "  0.01        0.01        0.01        0.01        0.01        0.01        0.01\n",
      "  0.01        0.01        0.01        0.01        0.01        0.01        0.01\n",
      "  0.01        0.01        0.01        0.01        0.01        0.01        0.01\n",
      "  0.01        0.01        0.01        0.01        0.01        0.01        0.01\n",
      "  0.01        0.01        0.01        0.01        0.01        0.01        0.01\n",
      "  0.01        0.01        0.01        0.01        0.01        0.01        0.01\n",
      "  0.01        0.01        0.01        0.01        0.01        0.01        0.01\n",
      "  0.01        0.01        0.01        0.01        0.01        0.01        0.01\n",
      "  0.01        0.208       0.62729412  0.99223529  0.62729412  0.20411765\n",
      "  0.01        0.01        0.01        0.01        0.01        0.01        0.01\n",
      "  0.01        0.01        0.01        0.01        0.01        0.01        0.01\n",
      "  0.01        0.01        0.01        0.01        0.01        0.01        0.01\n",
      "  0.01        0.19635294  0.934       0.98835294  0.98835294  0.98835294\n",
      "  0.93011765  0.01        0.01        0.01        0.01        0.01        0.01\n",
      "  0.01        0.01        0.01        0.01        0.01        0.01        0.01\n",
      "  0.01        0.01        0.01        0.01        0.01        0.01        0.01\n",
      "  0.01        0.21964706  0.89129412  0.99223529  0.98835294  0.93788235\n",
      "  0.91458824  0.98835294  0.23129412  0.03329412  0.01        0.01        0.01\n",
      "  0.01        0.01        0.01        0.01        0.01        0.01        0.01\n",
      "  0.01        0.01        0.01        0.01        0.01        0.01        0.01\n",
      "  0.04882353  0.24294118  0.87964706  0.98835294  0.99223529  0.98835294\n",
      "  0.79423529  0.33611765  0.98835294  0.99223529  0.48364706  0.01        0.01\n",
      "  0.01        0.01        0.01        0.01        0.01        0.01        0.01\n",
      "  0.01        0.01        0.01        0.01        0.01        0.01        0.01\n",
      "  0.01        0.64282353  0.98835294  0.98835294  0.98835294  0.99223529\n",
      "  0.98835294  0.98835294  0.38270588  0.74376471  0.99223529  0.65835294\n",
      "  0.01        0.01        0.01        0.01        0.01        0.01        0.01\n",
      "  0.01        0.01        0.01        0.01        0.01        0.01        0.01\n",
      "  0.01        0.01        0.208       0.934       0.99223529  0.99223529\n",
      "  0.74764706  0.45258824  0.99223529  0.89517647  0.19247059  0.31670588\n",
      "  1.          0.66223529  0.01        0.01        0.01        0.01        0.01\n",
      "  0.01        0.01        0.01        0.01        0.01        0.01        0.01\n",
      "  0.01        0.01        0.01        0.19635294  0.934       0.98835294\n",
      "  0.98835294  0.70494118  0.05658824  0.30117647  0.47976471  0.09152941\n",
      "  0.01        0.01        0.99223529  0.95341176  0.20411765  0.01        0.01\n",
      "  0.01        0.01        0.01        0.01        0.01        0.01        0.01\n",
      "  0.01        0.01        0.01        0.01        0.15752941  0.65058824\n",
      "  0.99223529  0.91458824  0.81752941  0.33611765  0.01        0.01        0.01\n",
      "  0.01        0.01        0.01        0.99223529  0.98835294  0.65058824\n",
      "  0.01        0.01        0.01        0.01        0.01        0.01        0.01\n",
      "  0.01        0.01        0.01        0.01        0.01        0.03717647\n",
      "  0.70105882  0.98835294  0.94176471  0.28564706  0.08376471  0.11870588\n",
      "  0.01        0.01        0.01        0.01        0.01        0.01\n",
      "  0.99223529  0.98835294  0.76705882  0.01        0.01        0.01        0.01\n",
      "  0.01        0.01        0.01        0.01        0.01        0.01        0.01\n",
      "  0.01        0.23129412  0.98835294  0.98835294  0.25458824  0.01        0.01\n",
      "  0.01        0.01        0.01        0.01        0.01        0.01        0.01\n",
      "  0.99223529  0.98835294  0.76705882  0.01        0.01        0.01        0.01\n",
      "  0.01        0.01        0.01        0.01        0.01        0.01        0.01\n",
      "  0.01        0.77870588  0.99223529  0.74764706  0.01        0.01        0.01\n",
      "  0.01        0.01        0.01        0.01        0.01        0.01        0.01\n",
      "  1.          0.99223529  0.77094118  0.01        0.01        0.01        0.01\n",
      "  0.01        0.01        0.01        0.01        0.01        0.01        0.01\n",
      "  0.30505882  0.96505882  0.98835294  0.44482353  0.01        0.01        0.01\n",
      "  0.01        0.01        0.01        0.01        0.01        0.01        0.01\n",
      "  0.99223529  0.98835294  0.58458824  0.01        0.01        0.01        0.01\n",
      "  0.01        0.01        0.01        0.01        0.01        0.01        0.01\n",
      "  0.34        0.98835294  0.90294118  0.10705882  0.01        0.01        0.01\n",
      "  0.01        0.01        0.01        0.01        0.01        0.03717647\n",
      "  0.53411765  0.99223529  0.73211765  0.05658824  0.01        0.01        0.01\n",
      "  0.01        0.01        0.01        0.01        0.01        0.01        0.01\n",
      "  0.01        0.34        0.98835294  0.87576471  0.01        0.01        0.01\n",
      "  0.01        0.01        0.01        0.01        0.01        0.03717647\n",
      "  0.51858824  0.98835294  0.88352941  0.28564706  0.01        0.01        0.01\n",
      "  0.01        0.01        0.01        0.01        0.01        0.01        0.01\n",
      "  0.01        0.01        0.34        0.98835294  0.57294118  0.01        0.01\n",
      "  0.01        0.01        0.01        0.01        0.01        0.19635294\n",
      "  0.65058824  0.98835294  0.68164706  0.01        0.01        0.01        0.01\n",
      "  0.01        0.01        0.01        0.01        0.01        0.01        0.01\n",
      "  0.01        0.01        0.01        0.34388235  0.99223529  0.88352941\n",
      "  0.01        0.01        0.01        0.01        0.01        0.01\n",
      "  0.45258824  0.934       0.99223529  0.63894118  0.01        0.01        0.01\n",
      "  0.01        0.01        0.01        0.01        0.01        0.01        0.01\n",
      "  0.01        0.01        0.01        0.01        0.01        0.34\n",
      "  0.98835294  0.97670588  0.57682353  0.19635294  0.12258824  0.34\n",
      "  0.70105882  0.88352941  0.99223529  0.87576471  0.65835294  0.22741176\n",
      "  0.01        0.01        0.01        0.01        0.01        0.01        0.01\n",
      "  0.01        0.01        0.01        0.01        0.01        0.01        0.01\n",
      "  0.01        0.34        0.98835294  0.98835294  0.98835294  0.89905882\n",
      "  0.84470588  0.98835294  0.98835294  0.98835294  0.77094118  0.51470588\n",
      "  0.01        0.01        0.01        0.01        0.01        0.01        0.01\n",
      "  0.01        0.01        0.01        0.01        0.01        0.01        0.01\n",
      "  0.01        0.01        0.01        0.11870588  0.78258824  0.98835294\n",
      "  0.98835294  0.99223529  0.98835294  0.98835294  0.91458824  0.57294118\n",
      "  0.01        0.01        0.01        0.01        0.01        0.01        0.01\n",
      "  0.01        0.01        0.01        0.01        0.01        0.01        0.01\n",
      "  0.01        0.01        0.01        0.01        0.01        0.01\n",
      "  0.10705882  0.50694118  0.98835294  0.99223529  0.98835294  0.55741176\n",
      "  0.15364706  0.01        0.01        0.01        0.01        0.01        0.01\n",
      "  0.01        0.01        0.01        0.01        0.01        0.01        0.01\n",
      "  0.01        0.01        0.01        0.01        0.01        0.01        0.01\n",
      "  0.01        0.01        0.01        0.01        0.01        0.01        0.01\n",
      "  0.01        0.01        0.01        0.01        0.01        0.01        0.01\n",
      "  0.01        0.01        0.01        0.01        0.01        0.01        0.01\n",
      "  0.01        0.01        0.01        0.01        0.01        0.01        0.01\n",
      "  0.01        0.01        0.01        0.01        0.01        0.01        0.01\n",
      "  0.01        0.01        0.01        0.01        0.01        0.01        0.01\n",
      "  0.01        0.01        0.01        0.01        0.01        0.01        0.01\n",
      "  0.01        0.01        0.01        0.01        0.01        0.01        0.01\n",
      "  0.01        0.01        0.01        0.01        0.01        0.01        0.01\n",
      "  0.01        0.01        0.01        0.01        0.01        0.01        0.01\n",
      "  0.01        0.01        0.01        0.01        0.01        0.01        0.01\n",
      "  0.01        0.01        0.01        0.01        0.01        0.01        0.01\n",
      "  0.01        0.01        0.01        0.01        0.01        0.01        0.01\n",
      "  0.01        0.01        0.01        0.01        0.01        0.01        0.01\n",
      "  0.01        0.01        0.01        0.01        0.01        0.01        0.01\n",
      "  0.01      ]\n"
     ]
    }
   ],
   "source": [
    "scaled_input = (np.asfarray(all_values[1:])/255.0 * 0.99)+0.01\n",
    "print(scaled_input)"
   ]
  },
  {
   "cell_type": "code",
   "execution_count": 92,
   "metadata": {},
   "outputs": [],
   "source": [
    "inputNodes = 784\n",
    "outputNodes = 10\n",
    "hiddenNodes = 200\n",
    "\n",
    "\n",
    "learningRate = 0.1\n",
    "\n",
    "nN = NeuralNet(inputNodes, outputNodes, hiddenNodes, learningRate)\n",
    "\n",
    "epochs = 5\n",
    "\n",
    "for i in range(epochs):\n",
    "    for record in data_list:\n",
    "        all_vaules = record.split(',')\n",
    "        inputs = (np.asfarray(all_values[1:])/255*0.99)+0.01\n",
    "        targets = np.zeros(outputNodes)+0.01\n",
    "        targets[int(all_values[0])] = 0.99\n",
    "        nN.train(inputs,targets)"
   ]
  },
  {
   "cell_type": "code",
   "execution_count": 93,
   "metadata": {},
   "outputs": [],
   "source": [
    "test_data_file = open('mnist_test_10.csv','r')\n",
    "test_data_list = test_data_file.readlines()\n",
    "test_data_file.close()"
   ]
  },
  {
   "cell_type": "code",
   "execution_count": 97,
   "metadata": {},
   "outputs": [
    {
     "name": "stdout",
     "output_type": "stream",
     "text": [
      "7\n"
     ]
    }
   ],
   "source": [
    "all_vals = test_data_list[0].split(',')\n",
    "print(all_vals[0])"
   ]
  },
  {
   "cell_type": "code",
   "execution_count": 98,
   "metadata": {},
   "outputs": [
    {
     "data": {
      "text/plain": [
       "<matplotlib.image.AxesImage at 0x7fca5a861d50>"
      ]
     },
     "execution_count": 98,
     "metadata": {},
     "output_type": "execute_result"
    },
    {
     "data": {
      "image/png": "[encoded data removed]",
      "text/plain": [
       "<matplotlib.figure.Figure at 0x7fca5a8eb610>"
      ]
     },
     "metadata": {},
     "output_type": "display_data"
    }
   ],
   "source": [
    "imageArray = np.asfarray(all_vals[1:]).reshape(28,28)\n",
    "matplotlib.pyplot.imshow(imageArray, cmap=\"Greys\",interpolation=\"None\")"
   ]
  },
  {
   "cell_type": "code",
   "execution_count": 99,
   "metadata": {},
   "outputs": [
    {
     "name": "stdout",
     "output_type": "stream",
     "text": [
      "final Inputs : \n",
      "[[-1.36214785]\n",
      " [ 3.27288933]\n",
      " [ 0.96813141]\n",
      " [-1.63563069]\n",
      " [-2.51966246]\n",
      " [-3.62769904]\n",
      " [-3.78545692]\n",
      " [-2.64775507]\n",
      " [-2.11622465]\n",
      " [-1.1031951 ]]\n"
     ]
    },
    {
     "data": {
      "text/plain": [
       "array([[ 0.20389144],\n",
       "       [ 0.96348695],\n",
       "       [ 0.72474689],\n",
       "       [ 0.16306047],\n",
       "       [ 0.07449121],\n",
       "       [ 0.0258892 ],\n",
       "       [ 0.0221947 ],\n",
       "       [ 0.06612751],\n",
       "       [ 0.10752984],\n",
       "       [ 0.24914171]])"
      ]
     },
     "execution_count": 99,
     "metadata": {},
     "output_type": "execute_result"
    }
   ],
   "source": [
    "nN.query((np.asfarray(all_vals[1:])/255.0 * 0.99) +0.01)"
   ]
  },
  {
   "cell_type": "code",
   "execution_count": null,
   "metadata": {
    "collapsed": true
   },
   "outputs": [],
   "source": []
  }
 ],
 "metadata": {
  "kernelspec": {
   "display_name": "Python 2",
   "language": "python",
   "name": "python2"
  },
  "language_info": {
   "codemirror_mode": {
    "name": "ipython",
    "version": 2
   },
   "file_extension": ".py",
   "mimetype": "text/x-python",
   "name": "python",
   "nbconvert_exporter": "python",
   "pygments_lexer": "ipython2",
   "version": "2.7.12"
  }
 },
 "nbformat": 4,
 "nbformat_minor": 2
}
