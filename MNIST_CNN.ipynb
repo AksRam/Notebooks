{
  "nbformat": 4,
  "nbformat_minor": 0,
  "metadata": {
    "colab": {
      "name": "MNIST_CNN.ipynb",
      "version": "0.3.2",
      "provenance": [],
      "collapsed_sections": []
    },
    "kernelspec": {
      "name": "python3",
      "display_name": "Python 3"
    }
  },
  "cells": [
    {
      "cell_type": "markdown",
      "metadata": {
        "id": "view-in-github",
        "colab_type": "text"
      },
      "source": [
        "[View in Colaboratory](https://colab.research.google.com/github/AkshayRam12/Notebooks/blob/master/MNIST_CNN.ipynb)"
      ]
    },
    {
      "metadata": {
        "id": "qOhH4H1B6fPE",
        "colab_type": "text"
      },
      "cell_type": "markdown",
      "source": [
        "## This is a simple Convolutional neural network which will be trained on the MNIST dataset to recognize handwritten digits.\n",
        "\n",
        "## Difference from the previous model is that we will use image processing techniques to classify the digits instead of just learning data patterns"
      ]
    },
    {
      "metadata": {
        "id": "W7YoVzEp6wZ9",
        "colab_type": "code",
        "colab": {}
      },
      "cell_type": "code",
      "source": [
        "# import required libraries\n",
        "\n",
        "import numpy\n",
        "from keras.datasets import mnist\n",
        "from keras.models import Sequential\n",
        "from keras.layers import Dense\n",
        "from keras.layers import Dropout\n",
        "from keras.layers import Flatten\n",
        "from keras.layers.convolutional import Conv2D\n",
        "from keras.layers.convolutional import MaxPooling2D\n",
        "from keras.utils import np_utils\n",
        "from keras import backend as K\n",
        "\n",
        "import matplotlib.pyplot as plt\n",
        "\n",
        "# fix random seed for reproducability\n",
        "seed = 7\n",
        "numpy.random.seed(seed)\n",
        "\n",
        "# set image ordering\n",
        "K.set_image_dim_ordering('th')\n"
      ],
      "execution_count": 0,
      "outputs": []
    },
    {
      "metadata": {
        "id": "NX9_CLkE7mmr",
        "colab_type": "code",
        "colab": {
          "base_uri": "https://localhost:8080/",
          "height": 119
        },
        "outputId": "49554672-7967-4824-da4b-64447fee0bd1"
      },
      "cell_type": "code",
      "source": [
        "# load the dataset\n",
        "\n",
        "(X_train, Y_train), (X_test, Y_test) = mnist.load_data()\n",
        "print(\"training set size = \", X_train.shape)\n",
        "print(\"test set size = \", X_test.shape)\n",
        "\n",
        "# reshaping the data to [samples][channels][width][height]\n",
        "X_train = X_train.reshape(X_train.shape[0], 1, X_train.shape[1], X_train.shape[2])\n",
        "X_test = X_test.reshape(X_test.shape[0], 1, X_test.shape[1], X_test.shape[2])\n",
        "print(\"sizes after reshaping :\")\n",
        "print(\"training set size = \", X_train.shape)\n",
        "print(\"test set size = \", X_test.shape)\n",
        "\n",
        "# normalize the inputs from 0-255 to 0-1\n",
        "X_train = X_train/255\n",
        "X_test = X_test/255\n",
        "\n",
        "# one hot encoding of labels\n",
        "Y_train = np_utils.to_categorical(Y_train)\n",
        "Y_test = np_utils.to_categorical(Y_test)\n",
        "num_classes = Y_train.shape[1]\n",
        "print(\"number of classes = \", num_classes)\n"
      ],
      "execution_count": 14,
      "outputs": [
        {
          "output_type": "stream",
          "text": [
            "training set size =  (60000, 28, 28)\n",
            "test set size =  (10000, 28, 28)\n",
            "sizes after reshaping :\n",
            "training set size =  (60000, 1, 28, 28)\n",
            "test set size =  (10000, 1, 28, 28)\n",
            "number of classes =  10\n"
          ],
          "name": "stdout"
        }
      ]
    },
    {
      "metadata": {
        "id": "OdlEod8s9MPb",
        "colab_type": "code",
        "colab": {}
      },
      "cell_type": "code",
      "source": [
        "# define the CNN model\n",
        "\n",
        "def cnn_model():\n",
        "  # create model\n",
        "  model = Sequential()\n",
        "  model.add(Conv2D(30, (5,5), input_shape=(1,28,28), activation='relu'))\n",
        "  model.add(MaxPooling2D(pool_size=(2,2)))\n",
        "  model.add(Conv2D(15, (3,3), activation='relu'))\n",
        "  model.add(MaxPooling2D(pool_size=(2,2)))\n",
        "  model.add(Dropout(0.2))\n",
        "  model.add(Flatten())\n",
        "  model.add(Dense(128, activation='relu'))\n",
        "  model.add(Dense(50, activation='relu'))\n",
        "  model.add(Dense(num_classes, activation='softmax'))\n",
        "  \n",
        "  # compile the model\n",
        "  model.compile(loss='categorical_crossentropy', optimizer='adam', metrics=['accuracy'])\n",
        "  return model\n",
        "  "
      ],
      "execution_count": 0,
      "outputs": []
    },
    {
      "metadata": {
        "id": "6jVFtY6s-J3c",
        "colab_type": "code",
        "colab": {
          "base_uri": "https://localhost:8080/",
          "height": 809
        },
        "outputId": "0b17babc-7182-45aa-e964-34ba799bcc97"
      },
      "cell_type": "code",
      "source": [
        "# build model\n",
        "model = cnn_model()\n",
        "\n",
        "# fit the model ( training)\n",
        "history = model.fit(X_train, Y_train, validation_data=(X_test, Y_test), epochs=10, batch_size=200, verbose=2)\n",
        "\n",
        "# plotting metrics\n",
        "\n",
        "print(\"\\n\\nResults :\")\n",
        "fig = plt.figure()\n",
        "plt.subplot(2,1,1)\n",
        "plt.plot(history.history['acc'])\n",
        "plt.plot(history.history['val_acc'])\n",
        "plt.title('model accuracy')\n",
        "plt.ylabel('accuracy')\n",
        "plt.xlabel('epoch')\n",
        "plt.legend(['train', 'test'], loc='lower right')\n",
        "\n",
        "plt.subplot(2,1,2)\n",
        "plt.plot(history.history['loss'])\n",
        "plt.plot(history.history['val_loss'])\n",
        "plt.title('model loss')\n",
        "plt.ylabel('loss')\n",
        "plt.xlabel('epoch')\n",
        "plt.legend(['train', 'test'], loc='upper right')\n",
        "\n",
        "plt.tight_layout()"
      ],
      "execution_count": 18,
      "outputs": [
        {
          "output_type": "stream",
          "text": [
            "Train on 60000 samples, validate on 10000 samples\n",
            "Epoch 1/10\n",
            " - 231s - loss: 0.3900 - acc: 0.8750 - val_loss: 0.0794 - val_acc: 0.9763\n",
            "Epoch 2/10\n",
            " - 231s - loss: 0.0978 - acc: 0.9694 - val_loss: 0.0522 - val_acc: 0.9844\n",
            "Epoch 3/10\n",
            " - 231s - loss: 0.0722 - acc: 0.9776 - val_loss: 0.0367 - val_acc: 0.9882\n",
            "Epoch 4/10\n",
            " - 231s - loss: 0.0584 - acc: 0.9818 - val_loss: 0.0332 - val_acc: 0.9895\n",
            "Epoch 5/10\n",
            " - 231s - loss: 0.0477 - acc: 0.9849 - val_loss: 0.0310 - val_acc: 0.9888\n",
            "Epoch 6/10\n",
            " - 231s - loss: 0.0432 - acc: 0.9868 - val_loss: 0.0294 - val_acc: 0.9894\n",
            "Epoch 7/10\n",
            " - 231s - loss: 0.0371 - acc: 0.9881 - val_loss: 0.0298 - val_acc: 0.9901\n",
            "Epoch 8/10\n",
            " - 231s - loss: 0.0337 - acc: 0.9888 - val_loss: 0.0239 - val_acc: 0.9916\n",
            "Epoch 9/10\n",
            " - 231s - loss: 0.0318 - acc: 0.9905 - val_loss: 0.0248 - val_acc: 0.9916\n",
            "Epoch 10/10\n",
            " - 231s - loss: 0.0282 - acc: 0.9908 - val_loss: 0.0263 - val_acc: 0.9918\n",
            "\n",
            "\n",
            "Results :\n"
          ],
          "name": "stdout"
        },
        {
          "output_type": "display_data",
          "data": {
            "image/png": "[encoded data removed]",
            "text/plain": [
              "<matplotlib.figure.Figure at 0x7f0c9e949128>"
            ]
          },
          "metadata": {
            "tags": []
          }
        }
      ]
    }
  ]
}